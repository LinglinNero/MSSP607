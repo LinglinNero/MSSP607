{
  "nbformat": 4,
  "nbformat_minor": 0,
  "metadata": {
    "colab": {
      "provenance": [],
      "authorship_tag": "ABX9TyPcPxMi8ldn6TFhevjHehbW",
      "include_colab_link": true
    },
    "kernelspec": {
      "name": "python3",
      "display_name": "Python 3"
    },
    "language_info": {
      "name": "python"
    }
  },
  "cells": [
    {
      "cell_type": "markdown",
      "metadata": {
        "id": "view-in-github",
        "colab_type": "text"
      },
      "source": [
        "<a href=\"https://colab.research.google.com/github/LinglinNero/MSSP607/blob/main/PARTICIPATION_ACTIVITY_Week_2_Storing_Values_In_Lists.ipynb\" target=\"_parent\"><img src=\"https://colab.research.google.com/assets/colab-badge.svg\" alt=\"Open In Colab\"/></a>"
      ]
    },
    {
      "cell_type": "code",
      "execution_count": 3,
      "metadata": {
        "colab": {
          "base_uri": "https://localhost:8080/"
        },
        "id": "j0WmvXDQ5AQX",
        "outputId": "a62c78bd-440f-4dd6-983a-a81e3eb53d1a"
      },
      "outputs": [
        {
          "output_type": "execute_result",
          "data": {
            "text/plain": [
              "[2, 4, 'hello', 8, 10]"
            ]
          },
          "metadata": {},
          "execution_count": 3
        }
      ],
      "source": [
        "spam = [2, 4, 6, 8, 10]\n",
        "spam[2] = \"hello\"\n",
        "spam"
      ]
    },
    {
      "cell_type": "code",
      "source": [
        "letters = [\"a\", \"b\", \"c\", \"d\"]\n",
        "#Repeat the string3 twice, then divide by 11 and round to get the result. Then, retrieve the corresponding item from the list.\n",
        "outcome_1 = letters[int(int('3'*2)//11)]\n",
        "print(outcome_1)\n",
        "#The last item\n",
        "outcome_2 = letters[-1]\n",
        "print(outcome_2)\n",
        "#list the first item to the third item, but do not include the third item.\n",
        "outcome_3 =letters[:2]\n",
        "print(outcome_3)"
      ],
      "metadata": {
        "colab": {
          "base_uri": "https://localhost:8080/"
        },
        "id": "X2XB_ngX5KKr",
        "outputId": "1d5c314c-6c9a-4394-ccf5-fa1dd009dbe8"
      },
      "execution_count": 16,
      "outputs": [
        {
          "output_type": "stream",
          "name": "stdout",
          "text": [
            "d\n",
            "d\n",
            "['a', 'b']\n"
          ]
        }
      ]
    },
    {
      "cell_type": "code",
      "source": [
        "print(tuple(['cat', 'dog', 5]))\n",
        "print(list(('cat', 'dog', 5)))"
      ],
      "metadata": {
        "colab": {
          "base_uri": "https://localhost:8080/"
        },
        "id": "9Ip8rczQK4k3",
        "outputId": "3c8ab282-ead5-4a22-adf0-730bad2dcca7"
      },
      "execution_count": 21,
      "outputs": [
        {
          "output_type": "stream",
          "name": "stdout",
          "text": [
            "('cat', 'dog', 5)\n",
            "['cat', 'dog', 5]\n"
          ]
        }
      ]
    },
    {
      "cell_type": "code",
      "source": [
        "spam = ['apples', 'bananas', 'tofu', 'cats']\n",
        "def list_to_string(list):\n",
        "    string = \"\"\n",
        "    if not list:\n",
        "        return \"\"\n",
        "    if len(list) == 1:\n",
        "        return str(list[0])\n",
        "\n",
        "    for i in range(len(list) - 1):\n",
        "        string += str(list[i]) + \", \"\n",
        "        string += \"and \" + str(list[-1])\n",
        "    return string\n",
        "print(list_to_string(spam))\n"
      ],
      "metadata": {
        "colab": {
          "base_uri": "https://localhost:8080/"
        },
        "id": "FzRysJM1KyzC",
        "outputId": "265c0673-f19e-4f84-e514-ec68bb89aef2"
      },
      "execution_count": 23,
      "outputs": [
        {
          "output_type": "stream",
          "name": "stdout",
          "text": [
            "apples, and catsbananas, and catstofu, and cats\n"
          ]
        }
      ]
    }
  ]
}
